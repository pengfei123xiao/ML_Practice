{
  "nbformat": 4,
  "nbformat_minor": 0,
  "metadata": {
    "colab": {
      "name": "Data prepossessing.ipynb",
      "version": "0.3.2",
      "provenance": []
    },
    "kernelspec": {
      "name": "python3",
      "display_name": "Python 3"
    }
  },
  "cells": [
    {
      "metadata": {
        "id": "NsPEjm1fpG_Z",
        "colab_type": "code",
        "colab": {
          "base_uri": "https://localhost:8080/",
          "height": 208
        },
        "outputId": "35c38d30-3c73-4101-c81a-aabcf209d1f4"
      },
      "cell_type": "code",
      "source": [
        "'''\n",
        "Demo of data prepossessing\n",
        "'''\n",
        "# Importing the libraries\n",
        "import numpy as np\n",
        "import pandas as pd\n",
        "\n",
        "# Importing dataset\n",
        "dataset = pd.read_csv(\"Data.csv\")\n",
        "# iloc[row index, column index]\n",
        "X = dataset.iloc[: , :-1].values # :-1 returns all elements except the last one\n",
        "Y = dataset.iloc[: , 3].values\n",
        "print(X)\n",
        "print(Y)"
      ],
      "execution_count": 3,
      "outputs": [
        {
          "output_type": "stream",
          "text": [
            "[['France' 44.0 72000.0]\n",
            " ['Spain' 27.0 48000.0]\n",
            " ['Germany' 30.0 54000.0]\n",
            " ['Spain' 38.0 61000.0]\n",
            " ['Germany' 40.0 nan]\n",
            " ['France' 35.0 58000.0]\n",
            " ['Spain' nan 52000.0]\n",
            " ['France' 48.0 79000.0]\n",
            " ['Germany' 50.0 83000.0]\n",
            " ['France' 37.0 67000.0]]\n",
            "['No' 'Yes' 'No' 'No' 'Yes' 'Yes' 'No' 'Yes' 'No' 'Yes']\n"
          ],
          "name": "stdout"
        }
      ]
    },
    {
      "metadata": {
        "id": "1I9P8NUlpkik",
        "colab_type": "code",
        "colab": {
          "base_uri": "https://localhost:8080/",
          "height": 191
        },
        "outputId": "49c23a8a-5fe4-4a57-fb6d-76bd7a87d898"
      },
      "cell_type": "code",
      "source": [
        "# Handling the missing data with mean\n",
        "from sklearn.preprocessing import Imputer\n",
        "imputer = Imputer(missing_values = \"NaN\", strategy = \"mean\", axis = 0)\n",
        "imputer = imputer.fit(X[ : , 1:3])\n",
        "X[ : , 1:3] = imputer.transform(X[ : , 1:3])\n",
        "print(X)"
      ],
      "execution_count": 4,
      "outputs": [
        {
          "output_type": "stream",
          "text": [
            "[['France' 44.0 72000.0]\n",
            " ['Spain' 27.0 48000.0]\n",
            " ['Germany' 30.0 54000.0]\n",
            " ['Spain' 38.0 61000.0]\n",
            " ['Germany' 40.0 63777.77777777778]\n",
            " ['France' 35.0 58000.0]\n",
            " ['Spain' 38.77777777777778 52000.0]\n",
            " ['France' 48.0 79000.0]\n",
            " ['Germany' 50.0 83000.0]\n",
            " ['France' 37.0 67000.0]]\n"
          ],
          "name": "stdout"
        }
      ]
    },
    {
      "metadata": {
        "id": "N_LYU2oRpovZ",
        "colab_type": "code",
        "colab": {
          "base_uri": "https://localhost:8080/",
          "height": 191
        },
        "outputId": "39ea1e30-311d-4540-fa85-0843e91fbdd6"
      },
      "cell_type": "code",
      "source": [
        "# Encoding categorical data\n",
        "from sklearn.preprocessing import LabelEncoder, OneHotEncoder\n",
        "labelencoder_X = LabelEncoder()\n",
        "X[ : , 0] = labelencoder_X.fit_transform(X[ : , 0])\n",
        "print(X)"
      ],
      "execution_count": 6,
      "outputs": [
        {
          "output_type": "stream",
          "text": [
            "[[0 44.0 72000.0]\n",
            " [2 27.0 48000.0]\n",
            " [1 30.0 54000.0]\n",
            " [2 38.0 61000.0]\n",
            " [1 40.0 63777.77777777778]\n",
            " [0 35.0 58000.0]\n",
            " [2 38.77777777777778 52000.0]\n",
            " [0 48.0 79000.0]\n",
            " [1 50.0 83000.0]\n",
            " [0 37.0 67000.0]]\n"
          ],
          "name": "stdout"
        }
      ]
    },
    {
      "metadata": {
        "id": "SJZ_z86rqBup",
        "colab_type": "code",
        "colab": {
          "base_uri": "https://localhost:8080/",
          "height": 381
        },
        "outputId": "3b26316e-0d5b-41ef-b5bc-fe6e3f236bc0"
      },
      "cell_type": "code",
      "source": [
        "# Creating a dummy variable\n",
        "onehotencoder = OneHotEncoder(categorical_features = [0])\n",
        "X = onehotencoder.fit_transform(X).toarray()\n",
        "labelencoder_Y = LabelEncoder()\n",
        "Y =  labelencoder_Y.fit_transform(Y)\n",
        "print(X)\n",
        "print(Y)"
      ],
      "execution_count": 8,
      "outputs": [
        {
          "output_type": "stream",
          "text": [
            "[[0.00000000e+00 1.00000000e+00 0.00000000e+00 0.00000000e+00\n",
            "  4.40000000e+01 7.20000000e+04]\n",
            " [1.00000000e+00 0.00000000e+00 0.00000000e+00 1.00000000e+00\n",
            "  2.70000000e+01 4.80000000e+04]\n",
            " [1.00000000e+00 0.00000000e+00 1.00000000e+00 0.00000000e+00\n",
            "  3.00000000e+01 5.40000000e+04]\n",
            " [1.00000000e+00 0.00000000e+00 0.00000000e+00 1.00000000e+00\n",
            "  3.80000000e+01 6.10000000e+04]\n",
            " [1.00000000e+00 0.00000000e+00 1.00000000e+00 0.00000000e+00\n",
            "  4.00000000e+01 6.37777778e+04]\n",
            " [0.00000000e+00 1.00000000e+00 0.00000000e+00 0.00000000e+00\n",
            "  3.50000000e+01 5.80000000e+04]\n",
            " [1.00000000e+00 0.00000000e+00 0.00000000e+00 1.00000000e+00\n",
            "  3.87777778e+01 5.20000000e+04]\n",
            " [0.00000000e+00 1.00000000e+00 0.00000000e+00 0.00000000e+00\n",
            "  4.80000000e+01 7.90000000e+04]\n",
            " [1.00000000e+00 0.00000000e+00 1.00000000e+00 0.00000000e+00\n",
            "  5.00000000e+01 8.30000000e+04]\n",
            " [0.00000000e+00 1.00000000e+00 0.00000000e+00 0.00000000e+00\n",
            "  3.70000000e+01 6.70000000e+04]]\n",
            "[0 1 0 0 1 1 0 1 0 1]\n"
          ],
          "name": "stdout"
        }
      ]
    },
    {
      "metadata": {
        "id": "PLR7h7aPqTET",
        "colab_type": "code",
        "colab": {}
      },
      "cell_type": "code",
      "source": [
        "#Splitting the datasets into training sets and Test sets\n",
        "from sklearn.model_selection import train_test_split\n",
        "X_train, X_test, Y_train, Y_test = train_test_split( X , Y , test_size = 0.2, random_state = 0)"
      ],
      "execution_count": 0,
      "outputs": []
    },
    {
      "metadata": {
        "id": "GLl2P6K7q163",
        "colab_type": "code",
        "colab": {
          "base_uri": "https://localhost:8080/",
          "height": 381
        },
        "outputId": "2a8a1a0e-f6ea-40f2-95a0-f987728187b9"
      },
      "cell_type": "code",
      "source": [
        "#Feature Scaling\n",
        "from sklearn.preprocessing import StandardScaler\n",
        "sc_X = StandardScaler()\n",
        "X_train = sc_X.fit_transform(X_train)\n",
        "X_test = sc_X.fit_transform(X_test)\n",
        "print(X)\n",
        "print(Y)"
      ],
      "execution_count": 11,
      "outputs": [
        {
          "output_type": "stream",
          "text": [
            "[[0.00000000e+00 1.00000000e+00 0.00000000e+00 0.00000000e+00\n",
            "  4.40000000e+01 7.20000000e+04]\n",
            " [1.00000000e+00 0.00000000e+00 0.00000000e+00 1.00000000e+00\n",
            "  2.70000000e+01 4.80000000e+04]\n",
            " [1.00000000e+00 0.00000000e+00 1.00000000e+00 0.00000000e+00\n",
            "  3.00000000e+01 5.40000000e+04]\n",
            " [1.00000000e+00 0.00000000e+00 0.00000000e+00 1.00000000e+00\n",
            "  3.80000000e+01 6.10000000e+04]\n",
            " [1.00000000e+00 0.00000000e+00 1.00000000e+00 0.00000000e+00\n",
            "  4.00000000e+01 6.37777778e+04]\n",
            " [0.00000000e+00 1.00000000e+00 0.00000000e+00 0.00000000e+00\n",
            "  3.50000000e+01 5.80000000e+04]\n",
            " [1.00000000e+00 0.00000000e+00 0.00000000e+00 1.00000000e+00\n",
            "  3.87777778e+01 5.20000000e+04]\n",
            " [0.00000000e+00 1.00000000e+00 0.00000000e+00 0.00000000e+00\n",
            "  4.80000000e+01 7.90000000e+04]\n",
            " [1.00000000e+00 0.00000000e+00 1.00000000e+00 0.00000000e+00\n",
            "  5.00000000e+01 8.30000000e+04]\n",
            " [0.00000000e+00 1.00000000e+00 0.00000000e+00 0.00000000e+00\n",
            "  3.70000000e+01 6.70000000e+04]]\n",
            "[0 1 0 0 1 1 0 1 0 1]\n"
          ],
          "name": "stdout"
        }
      ]
    }
  ]
}