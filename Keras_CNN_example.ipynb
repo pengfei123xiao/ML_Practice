{
  "nbformat": 4,
  "nbformat_minor": 0,
  "metadata": {
    "colab": {
      "name": "Keras CNN example.ipynb",
      "version": "0.3.2",
      "provenance": [],
      "collapsed_sections": [],
      "include_colab_link": true
    },
    "kernelspec": {
      "name": "python3",
      "display_name": "Python 3"
    },
    "accelerator": "GPU"
  },
  "cells": [
    {
      "cell_type": "markdown",
      "metadata": {
        "id": "view-in-github",
        "colab_type": "text"
      },
      "source": [
        "<a href=\"https://colab.research.google.com/github/prodigyxiao/ML_Practice/blob/master/Keras_CNN_example.ipynb\" target=\"_parent\"><img src=\"https://colab.research.google.com/assets/colab-badge.svg\" alt=\"Open In Colab\"/></a>"
      ]
    },
    {
      "metadata": {
        "id": "d1mEkVcRWHaa",
        "colab_type": "code",
        "colab": {}
      },
      "cell_type": "code",
      "source": [
        "!pip install keras"
      ],
      "execution_count": 0,
      "outputs": []
    },
    {
      "metadata": {
        "id": "AV-pfOi4V9C8",
        "colab_type": "code",
        "outputId": "9b556bb1-62b2-4d39-b81b-83ed2c420fd2",
        "colab": {
          "base_uri": "https://localhost:8080/",
          "height": 84
        }
      },
      "cell_type": "code",
      "source": [
        "import numpy as np \n",
        "from keras.models import Sequential\n",
        "from keras.layers import Dense, Dropout, Activation, Flatten\n",
        "from keras.layers import Convolution2D, MaxPooling2D # Convolution layer\n",
        "from keras.utils import np_utils\n",
        "from keras.datasets import mnist # A built in dataset\n",
        "\n",
        "# Load pre-shuffled MNIST data\n",
        "(X_train,y_train),(X_test,y_test)=mnist.load_data()\n",
        "print (X_train.shape) # 60000 samples, with each 28*28 pixels"
      ],
      "execution_count": 0,
      "outputs": [
        {
          "output_type": "stream",
          "text": [
            "Using TensorFlow backend.\n"
          ],
          "name": "stderr"
        },
        {
          "output_type": "stream",
          "text": [
            "Downloading data from https://s3.amazonaws.com/img-datasets/mnist.npz\n",
            "11493376/11490434 [==============================] - 1s 0us/step\n",
            "(60000, 28, 28)\n"
          ],
          "name": "stdout"
        }
      ]
    },
    {
      "metadata": {
        "id": "GWxvJY8UZ8zK",
        "colab_type": "code",
        "outputId": "92a2efff-2dce-4369-ec3f-22e120bfd098",
        "colab": {
          "base_uri": "https://localhost:8080/",
          "height": 364
        }
      },
      "cell_type": "code",
      "source": [
        "# Visulize MNIST data\n",
        "from matplotlib import pyplot as plt\n",
        "plt.imshow(X_train[0])"
      ],
      "execution_count": 0,
      "outputs": [
        {
          "output_type": "execute_result",
          "data": {
            "text/plain": [
              "<matplotlib.image.AxesImage at 0x7f5f8f88e160>"
            ]
          },
          "metadata": {
            "tags": []
          },
          "execution_count": 3
        },
        {
          "output_type": "display_data",
          "data": {
            "image/png": "[encoded data removed]",
            "text/plain": [
              "<matplotlib.figure.Figure at 0x7f5fcdcbb160>"
            ]
          },
          "metadata": {
            "tags": []
          }
        }
      ]
    },
    {
      "metadata": {
        "id": "6qiSwBgdaZdY",
        "colab_type": "code",
        "outputId": "8a2c7f9f-e824-4ace-b5e5-e0401545736f",
        "colab": {
          "base_uri": "https://localhost:8080/",
          "height": 34
        }
      },
      "cell_type": "code",
      "source": [
        "# Data pre-process for X\n",
        "\"\"\"\n",
        "The depth of MINST picture is 1, and should be declared explicitly.\n",
        "Picture with RGB three channels has depth 3.\n",
        "\"\"\"\n",
        "# Reshape data from (n,width,height) to (n,depth,width,height)\n",
        "X_train=X_train.reshape(X_train.shape[0],1,28,28)\n",
        "X_test=X_test.reshape(X_test.shape[0],1,28,28)\n",
        "print (X_train.shape)\n",
        "\n",
        "# Convert data type to float32\n",
        "X_train=X_train.astype('float32')\n",
        "X_test=X_test.astype('float32')\n",
        "\n",
        "# Normalize data\n",
        "X_train /= 255\n",
        "X_test /= 255"
      ],
      "execution_count": 0,
      "outputs": [
        {
          "output_type": "stream",
          "text": [
            "(60000, 1, 28, 28)\n"
          ],
          "name": "stdout"
        }
      ]
    },
    {
      "metadata": {
        "id": "oMAgRjKRcKCo",
        "colab_type": "code",
        "outputId": "10c9f3db-d440-4575-cb5f-286c2cddcf6e",
        "colab": {
          "base_uri": "https://localhost:8080/",
          "height": 50
        }
      },
      "cell_type": "code",
      "source": [
        "# Data pre-process for class label y\n",
        "print(y_train.shape)\n",
        "# print(y_train[:10])\n",
        "\"\"\"\n",
        "y_train and y_test are not divided into 10 different class labels, but one type array.\n",
        "Need one hot encoding.\n",
        "\"\"\"\n",
        "# Convert 1-D class array into 10-D class matrices\n",
        "y_train = np_utils.to_categorical(y_train,10)\n",
        "y_test = np_utils.to_categorical(y_test,10)\n",
        "print(y_train.shape)\n"
      ],
      "execution_count": 0,
      "outputs": [
        {
          "output_type": "stream",
          "text": [
            "(60000,)\n",
            "(60000, 10)\n"
          ],
          "name": "stdout"
        }
      ]
    },
    {
      "metadata": {
        "id": "Mz8oeXx6Wnx7",
        "colab_type": "code",
        "outputId": "6f755f5e-58b8-434c-9142-a38b1cadf028",
        "colab": {
          "base_uri": "https://localhost:8080/",
          "height": 124
        }
      },
      "cell_type": "code",
      "source": [
        "# Create a Sequential model and add layers\n",
        "# np.random.seed(1000) # For reproducibility\n",
        "model = Sequential()\n",
        "\"\"\"\n",
        "32 is the number of CNN filters; 3 is the number of row/column of the convolution kernal.\n",
        "1,28,28 is corresponding with (depth, width,height) of each picture\n",
        "\"\"\"\n",
        "from keras import backend as K\n",
        "K.set_image_dim_ordering('th') # Solve negative dimension size caused by substracting 3 from 1 for 'Conv2D'\n",
        "model.add(Convolution2D(32,3,3,activation='relu',input_shape=(1,28,28)))\n",
        "print(model.output_shape)\n",
        "\n",
        "# Add more layers\n",
        "model.add(Convolution2D(32,3,3,activation='relu'))\n",
        "model.add(MaxPooling2D(pool_size=(2,2))) # Reduce parameter number with a 2*2 filter, pick the max value from the filter\n",
        "model.add(Dropout(0.25)) # Normalize model to prevent over-fitting\n",
        "\n",
        "# Add full connected layers and output layer\n",
        "model.add(Flatten())\n",
        "model.add(Dense(128,activation='relu'))\n",
        "model.add(Dropout(0.5))\n",
        "model.add(Dense(10,activation='softmax')) # 10 is the output size\n",
        "          \n",
        "          "
      ],
      "execution_count": 0,
      "outputs": [
        {
          "output_type": "stream",
          "text": [
            "/usr/local/lib/python3.6/dist-packages/ipykernel_launcher.py:8: UserWarning: Update your `Conv2D` call to the Keras 2 API: `Conv2D(32, (3, 3), activation=\"relu\", input_shape=(1, 28, 28...)`\n",
            "  \n"
          ],
          "name": "stderr"
        },
        {
          "output_type": "stream",
          "text": [
            "(None, 32, 26, 26)\n"
          ],
          "name": "stdout"
        },
        {
          "output_type": "stream",
          "text": [
            "/usr/local/lib/python3.6/dist-packages/ipykernel_launcher.py:12: UserWarning: Update your `Conv2D` call to the Keras 2 API: `Conv2D(32, (3, 3), activation=\"relu\")`\n",
            "  if sys.path[0] == '':\n"
          ],
          "name": "stderr"
        }
      ]
    },
    {
      "metadata": {
        "id": "kwp4vCkOkNs2",
        "colab_type": "code",
        "outputId": "ae307d71-2293-463c-c1b9-3783bc1c879c",
        "colab": {
          "base_uri": "https://localhost:8080/",
          "height": 1000
        }
      },
      "cell_type": "code",
      "source": [
        "# Compile model and declare loss function and optimizer\n",
        "model.compile(loss='categorical_crossentropy',\n",
        "             optimizer='adam',\n",
        "             metrics=['accuracy'])\n",
        "\n",
        "# Fit model\n",
        "model.fit(X_train,y_train,batch_size=32,nb_epoch=10,verbose=1)"
      ],
      "execution_count": 0,
      "outputs": [
        {
          "output_type": "stream",
          "text": [
            "/usr/local/lib/python3.6/dist-packages/ipykernel_launcher.py:6: UserWarning: The `nb_epoch` argument in `fit` has been renamed `epochs`.\n",
            "  \n"
          ],
          "name": "stderr"
        },
        {
          "output_type": "stream",
          "text": [
            "Epoch 1/10\n",
            "60000/60000 [==============================] - 22s 362us/step - loss: 0.2126 - acc: 0.9354\n",
            "Epoch 2/10\n",
            "60000/60000 [==============================] - 18s 307us/step - loss: 0.0887 - acc: 0.9733\n",
            "Epoch 3/10\n",
            "60000/60000 [==============================] - 19s 310us/step - loss: 0.0680 - acc: 0.9792\n",
            "Epoch 4/10\n",
            "60000/60000 [==============================] - 19s 314us/step - loss: 0.0563 - acc: 0.9827\n",
            "Epoch 5/10\n",
            "60000/60000 [==============================] - 19s 310us/step - loss: 0.0486 - acc: 0.9850\n",
            "Epoch 6/10\n",
            "60000/60000 [==============================] - 18s 307us/step - loss: 0.0417 - acc: 0.9870\n",
            "Epoch 7/10\n",
            "60000/60000 [==============================] - 18s 306us/step - loss: 0.0374 - acc: 0.9883\n",
            "Epoch 8/10\n",
            "60000/60000 [==============================] - 19s 309us/step - loss: 0.0360 - acc: 0.9886\n",
            "Epoch 9/10\n",
            "60000/60000 [==============================] - 18s 305us/step - loss: 0.0307 - acc: 0.9901\n",
            "Epoch 10/10\n",
            "60000/60000 [==============================] - 18s 305us/step - loss: 0.0297 - acc: 0.9902\n"
          ],
          "name": "stdout"
        },
        {
          "output_type": "execute_result",
          "data": {
            "text/plain": [
              "<keras.callbacks.History at 0x7f5f8cfdccf8>"
            ]
          },
          "metadata": {
            "tags": []
          },
          "execution_count": 7
        }
      ]
    },
    {
      "metadata": {
        "id": "OGx3t9nDlc9V",
        "colab_type": "code",
        "outputId": "850e6f86-3384-4dea-8418-92b904ec556d",
        "colab": {
          "base_uri": "https://localhost:8080/",
          "height": 34
        }
      },
      "cell_type": "code",
      "source": [
        "score=model.evaluate(X_test,y_test,verbose=0)\n",
        "print(score)"
      ],
      "execution_count": 0,
      "outputs": [
        {
          "output_type": "stream",
          "text": [
            "[0.02905314213082347, 0.9917]\n"
          ],
          "name": "stdout"
        }
      ]
    }
  ]
}