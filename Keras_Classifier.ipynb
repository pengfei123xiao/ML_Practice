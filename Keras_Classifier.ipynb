{
  "nbformat": 4,
  "nbformat_minor": 0,
  "metadata": {
    "colab": {
      "name": "Keras_Classifier.ipynb",
      "version": "0.3.2",
      "provenance": [],
      "collapsed_sections": [],
      "include_colab_link": true
    },
    "kernelspec": {
      "name": "python3",
      "display_name": "Python 3"
    }
  },
  "cells": [
    {
      "cell_type": "markdown",
      "metadata": {
        "id": "view-in-github",
        "colab_type": "text"
      },
      "source": [
        "<a href=\"https://colab.research.google.com/github/prodigyxiao/ML_Practice/blob/master/Keras_Classifier.ipynb\" target=\"_parent\"><img src=\"https://colab.research.google.com/assets/colab-badge.svg\" alt=\"Open In Colab\"/></a>"
      ]
    },
    {
      "metadata": {
        "id": "9C3_DJRXb8Xy",
        "colab_type": "code",
        "colab": {
          "base_uri": "https://localhost:8080/",
          "height": 52
        },
        "outputId": "d140f9f6-be8f-46d6-ee7d-798838c303e7"
      },
      "cell_type": "code",
      "source": [
        "import numpy as np \n",
        "np.random.seed(1337)  # for reproducibility\n",
        "from keras.models import Sequential\n",
        "from keras.layers import Dense, Activation\n",
        "from keras.optimizers import RMSprop\n",
        "from keras.utils import np_utils\n",
        "from keras.datasets import mnist # A built in dataset\n",
        "\n",
        "# download the mnist data\n",
        "# X shape (60,000 28x28), y shape (10,000, )\n",
        "(X_train, y_train), (X_test, y_test) = mnist.load_data()"
      ],
      "execution_count": 2,
      "outputs": [
        {
          "output_type": "stream",
          "text": [
            "Downloading data from https://s3.amazonaws.com/img-datasets/mnist.npz\n",
            "11493376/11490434 [==============================] - 1s 0us/step\n"
          ],
          "name": "stdout"
        }
      ]
    },
    {
      "metadata": {
        "id": "QsoeXJ7NdNxt",
        "colab_type": "code",
        "colab": {
          "base_uri": "https://localhost:8080/",
          "height": 52
        },
        "outputId": "966bf756-6916-41d7-b2b6-e35a1acb090a"
      },
      "cell_type": "code",
      "source": [
        "# data pre-processing\n",
        "X_train = X_train.reshape(X_train.shape[0], -1) / 255.   # normalize\n",
        "X_test = X_test.reshape(X_test.shape[0], -1) / 255.      # normalize\n",
        "print (X_train.shape)\n",
        "y_train = np_utils.to_categorical(y_train, 10) # One hot\n",
        "y_test = np_utils.to_categorical(y_test, 10) # One hot\n",
        "print(y_train.shape)"
      ],
      "execution_count": 3,
      "outputs": [
        {
          "output_type": "stream",
          "text": [
            "(60000, 784)\n",
            "(60000, 10)\n"
          ],
          "name": "stdout"
        }
      ]
    },
    {
      "metadata": {
        "id": "587s143hd1Lc",
        "colab_type": "code",
        "colab": {
          "base_uri": "https://localhost:8080/",
          "height": 436
        },
        "outputId": "c51bada2-6093-47f9-ae87-760e3faddc81"
      },
      "cell_type": "code",
      "source": [
        "# Another way to build your neural net\n",
        "model = Sequential([\n",
        "    Dense(32, input_dim=784), # output is 32-D, input is 784-D\n",
        "    Activation('relu'),\n",
        "    Dense(10), # output is 10-D\n",
        "    Activation('softmax'),\n",
        "])\n",
        "\n",
        "# Another way to define your optimizer\n",
        "rmsprop = RMSprop(lr=0.001, rho=0.9, epsilon=1e-08, decay=0.0)\n",
        "\n",
        "# Compile model and declare loss function and optimizer\n",
        "model.compile(optimizer=rmsprop,\n",
        "              loss='categorical_crossentropy',\n",
        "              metrics=['accuracy'])\n",
        "\n",
        "# Fit model\n",
        "print('Training ------------')\n",
        "# Another way to train the model\n",
        "model.fit(X_train, y_train, nb_epoch=10, batch_size=32) # Train 10 times\n"
      ],
      "execution_count": 5,
      "outputs": [
        {
          "output_type": "stream",
          "text": [
            "Training ------------\n"
          ],
          "name": "stdout"
        },
        {
          "output_type": "stream",
          "text": [
            "/usr/local/lib/python3.6/dist-packages/ipykernel_launcher.py:19: UserWarning: The `nb_epoch` argument in `fit` has been renamed `epochs`.\n"
          ],
          "name": "stderr"
        },
        {
          "output_type": "stream",
          "text": [
            "Epoch 1/10\n",
            "60000/60000 [==============================] - 3s 54us/step - loss: 0.3441 - acc: 0.9043\n",
            "Epoch 2/10\n",
            "60000/60000 [==============================] - 3s 44us/step - loss: 0.1964 - acc: 0.9440\n",
            "Epoch 3/10\n",
            "60000/60000 [==============================] - 3s 44us/step - loss: 0.1621 - acc: 0.9538\n",
            "Epoch 4/10\n",
            "60000/60000 [==============================] - 3s 44us/step - loss: 0.1430 - acc: 0.9594\n",
            "Epoch 5/10\n",
            "60000/60000 [==============================] - 3s 44us/step - loss: 0.1299 - acc: 0.9630\n",
            "Epoch 6/10\n",
            "60000/60000 [==============================] - 3s 43us/step - loss: 0.1203 - acc: 0.9655\n",
            "Epoch 7/10\n",
            "60000/60000 [==============================] - 3s 44us/step - loss: 0.1127 - acc: 0.9678\n",
            "Epoch 8/10\n",
            "60000/60000 [==============================] - 3s 44us/step - loss: 0.1065 - acc: 0.9697\n",
            "Epoch 9/10\n",
            "60000/60000 [==============================] - 3s 44us/step - loss: 0.1016 - acc: 0.9716\n",
            "Epoch 10/10\n",
            "60000/60000 [==============================] - 3s 44us/step - loss: 0.0978 - acc: 0.9728\n"
          ],
          "name": "stdout"
        },
        {
          "output_type": "execute_result",
          "data": {
            "text/plain": [
              "<keras.callbacks.History at 0x7fd29fa914a8>"
            ]
          },
          "metadata": {
            "tags": []
          },
          "execution_count": 5
        }
      ]
    },
    {
      "metadata": {
        "id": "lQOECZRVfeYf",
        "colab_type": "code",
        "colab": {
          "base_uri": "https://localhost:8080/",
          "height": 104
        },
        "outputId": "df4942db-7fb6-438f-a0bc-66ff3b12c09b"
      },
      "cell_type": "code",
      "source": [
        "print('\\nTesting ------------')\n",
        "\n",
        "# Evaluate the model with the metrics we defined earlier\n",
        "loss, accuracy = model.evaluate(X_test, y_test)\n",
        "\n",
        "print('test loss: ', loss)\n",
        "print('test accuracy: ', accuracy)"
      ],
      "execution_count": 6,
      "outputs": [
        {
          "output_type": "stream",
          "text": [
            "\n",
            "Testing ------------\n",
            "10000/10000 [==============================] - 0s 21us/step\n",
            "test loss:  0.13781284617055206\n",
            "test accuracy:  0.9655\n"
          ],
          "name": "stdout"
        }
      ]
    }
  ]
}